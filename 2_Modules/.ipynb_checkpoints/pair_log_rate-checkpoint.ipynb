{
 "cells": [
  {
   "cell_type": "code",
   "execution_count": null,
   "metadata": {},
   "outputs": [],
   "source": [
    "# 전체 데이터에 자연로그 씌워서 모든 pair 쌍의 log 차이를 만듦\n",
    "\n",
    "def pair_log_rate(df : pd.DataFrame = allPrice):\n",
    "    dfLog = np.log(df)\n",
    "\n",
    "    columns_list = dfLog.T.index\n",
    "    multi_index = [[x for x in columns_list for y in range(0,len(columns_list))],\n",
    "                   [ x for y in range(0,len(columns_list)) for x in columns_list]]\n",
    "\n",
    "    dfIndex = pd.DataFrame(index =  multi_index).rename_axis(['pair1', 'pair2'])\n",
    "    tmp1 = dfLog.T.rename_axis('pair1').join(dfIndex)\n",
    "    tmp2 = dfLog.T.rename_axis('pair2').join(dfIndex)\n",
    "\n",
    "    logPair = abs(tmp1 - tmp2)\n",
    "    return(logPair)"
   ]
  },
  {
   "cell_type": "code",
   "execution_count": null,
   "metadata": {},
   "outputs": [],
   "source": [
    "# sub_pair 결과로 나온 데이터프레임의 pair쌍의 raw 데이터 log 차이를 만듦\n",
    "# subPairDf = sub_pair 결과물 넣기, rawDf = allPrice_2015 같이 log 차이를 보려는 데이터 넣기\n",
    "\n",
    "def sub_pair_log_rate(subPairDf : pd.DataFrame, rawDf : pd.DataFrame):\n",
    "    \n",
    "    df = subPairDf.set_index(['pair1', 'pair2'])\n",
    "    dfIndex = pd.DataFrame(index = df.index)    \n",
    "    \n",
    "    dfLog = np.log(rawDf)\n",
    "\n",
    "    tmp1 = dfIndex.join(dfLog.T.rename_axis('pair1'))\n",
    "    tmp2 = dfIndex.join(dfLog.T.rename_axis('pair2'))\n",
    "\n",
    "    logPair = abs(tmp1 - tmp2)\n",
    "    return(logPair)"
   ]
  }
 ],
 "metadata": {
  "kernelspec": {
   "display_name": "Python 3",
   "language": "python",
   "name": "python3"
  },
  "language_info": {
   "codemirror_mode": {
    "name": "ipython",
    "version": 3
   },
   "file_extension": ".py",
   "mimetype": "text/x-python",
   "name": "python",
   "nbconvert_exporter": "python",
   "pygments_lexer": "ipython3",
   "version": "3.7.2"
  }
 },
 "nbformat": 4,
 "nbformat_minor": 2
}
