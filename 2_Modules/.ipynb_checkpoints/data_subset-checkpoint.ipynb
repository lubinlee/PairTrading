{
 "cells": [
  {
   "cell_type": "code",
   "execution_count": 0,
   "metadata": {
    "colab": {},
    "colab_type": "code",
    "id": "ft6xSCAHpgkh"
   },
   "outputs": [],
   "source": [
    "'''\n",
    "설명 : 주식 코드 데이터를 입력하면, 특정 개수만큼 ordering하여 추출함\n",
    "매개변수 :pair_df = 입력 데이터, 데이터프레임 형식\n",
    "        scr_col_num = 점수(상관계수 등)가 들어있는 컬럼 위치\n",
    "        ascending = 점수 기준 ordering, True 오름차순, False 내림차순(default)\n",
    "        subset_num = 데이터 개수, 입력 안하면 상위 10개, 'all'이라 쓰면 전체시각화\n",
    "필수사항 : 입력 데이터는 주식pair 데이터여야 함\n",
    "'''\n",
    "\n",
    "def data_subset(pair_df, scr_col_num = 3, subset_num = 10, ascending = False) :\n",
    "    # 데이터 정렬, 파이썬은 0부터 시작이므로 컬럼 위치에 -1 해줘야 함\n",
    "    pair_df = pair_df.sort_values(by = pair_df.columns[scr_col_num - 1],ascending = [ascending])\n",
    "    \n",
    "    # 시각화할 데이터 개수 \n",
    "    if subset_num == 'all' :\n",
    "        subset_num = len(pair_df.index)\n",
    "        \n",
    "    result = pair_df[0:subset_num]\n",
    "    \n",
    "    return(result)\n",
    ";"
   ]
  }
 ],
 "metadata": {
  "colab": {
   "name": "data_subset.ipynb",
   "provenance": [],
   "version": "0.3.2"
  },
  "kernelspec": {
   "display_name": "Python 3",
   "language": "python",
   "name": "python3"
  },
  "language_info": {
   "codemirror_mode": {
    "name": "ipython",
    "version": 3
   },
   "file_extension": ".py",
   "mimetype": "text/x-python",
   "name": "python",
   "nbconvert_exporter": "python",
   "pygments_lexer": "ipython3",
   "version": "3.7.2"
  }
 },
 "nbformat": 4,
 "nbformat_minor": 1
}
