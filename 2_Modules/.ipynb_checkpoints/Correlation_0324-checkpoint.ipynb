{
 "cells": [
  {
   "cell_type": "code",
   "execution_count": 1,
   "metadata": {},
   "outputs": [],
   "source": [
    "def Corr_pair(dataframe):\n",
    "    # 상관관계 dataframe 으로 변환\n",
    "    dataframe = dataframe.corr()\n",
    "    # pair1, pair2, correlation값으로 이뤄진 시리즈(Series) 만들기\n",
    "    dataframe = dataframe.unstack()\n",
    "    # 중복 제거\n",
    "    dataframe = dataframe.drop_duplicates().dropna()\n",
    "    # Series -> Dataframe\n",
    "    dataframe = dataframe.to_frame()\n",
    "    # 절대값이 높은 순으로 정렬\n",
    "    dataframe['abs_cor'] = dataframe[0].abs()\n",
    "    dataframe = dataframe.reset_index()\n",
    "    dataframe = dataframe.sort_values(by=['abs_cor'],ascending=[False])\n",
    "    dataframe = dataframe.drop(0,0)\n",
    "    dataframe = dataframe.reset_index(drop=True)\n",
    "    # column명 변경\n",
    "    dataframe.columns=['pair1','pair2','cor','abs_cor']\n",
    "    return dataframe"
   ]
  },
  {
   "cell_type": "code",
   "execution_count": 2,
   "metadata": {},
   "outputs": [],
   "source": [
    "def Aver_pair(dataframe):\n",
    "    aver_corr = dataframe['abs_cor'].mean()\n",
    "    output_df = dataframe[dataframe['abs_cor']>aver_corr]\n",
    "    return output_df"
   ]
  },
  {
   "cell_type": "code",
   "execution_count": 1,
   "metadata": {},
   "outputs": [],
   "source": [
    "# 상관관계 Pair 스크리닝 함수(filtering) \n",
    "def Sub_pair(dataframe,value=None, ratio=None):\n",
    "    # value와 ratio 모두 입력되지 않으면, 상관계수가 평균이상인 부분집합\n",
    "    if (value is None) and (ratio is None):\n",
    "        aver_corr = dataframe['abs_cor'].mean()\n",
    "        output_df = dataframe[dataframe['abs_cor']>aver_corr]\n",
    "        return output_df\n",
    "    # value만 입력되었을 때, 상관계수가 입력된 value값 이상인 부분집합\n",
    "    elif (value is not None) and (ratio is None):\n",
    "        if value <=1 and value >= 0:\n",
    "            output_df = dataframe[dataframe['abs_cor']>= abs(value)]\n",
    "            return output_df\n",
    "        else:\n",
    "            print('value는 0과 1사이의 수를 입력하여 주세요')\n",
    "    # ratio만 입력되었을 때, 전체 상관계수 쌍에서 상위 (입력된 ratio값) 부분집합\n",
    "    elif (value is None) and (ratio is not None):\n",
    "        if ratio <= 1 and ratio >= 0:\n",
    "            ratio_index = int(len(dataframe)*ratio)\n",
    "            output_df = dataframe.head(ratio_index)\n",
    "            return output_df\n",
    "        else:\n",
    "            print('ratio는 0과 1사이의 수를 입력하여 주세요.')\n",
    "    # value 와 ratio 모두 입력되었을 때는 더 상위 부분집합 \n",
    "    else:\n",
    "        if ratio <= 1 and ratio >= 0 and value <=1 and value >=0:\n",
    "            ratio_index = int(len(dataframe)*ratio)      \n",
    "            if value >= dataframe.iloc[ratio_index,3]:\n",
    "                output_df = dataframe[dataframe['abs_cor']> abs(value)]\n",
    "                return output_df\n",
    "            else:\n",
    "                output_df = dataframe.head(ratio_index)\n",
    "                return output_df\n",
    "        else:\n",
    "            print('value 와 ratio는 0과 1사이의 수를 입력하여 주세요.')"
   ]
  },
  {
   "cell_type": "code",
   "execution_count": null,
   "metadata": {},
   "outputs": [],
   "source": []
  }
 ],
 "metadata": {
  "kernelspec": {
   "display_name": "Python 3",
   "language": "python",
   "name": "python3"
  },
  "language_info": {
   "codemirror_mode": {
    "name": "ipython",
    "version": 3
   },
   "file_extension": ".py",
   "mimetype": "text/x-python",
   "name": "python",
   "nbconvert_exporter": "python",
   "pygments_lexer": "ipython3",
   "version": "3.7.2"
  }
 },
 "nbformat": 4,
 "nbformat_minor": 2
}
