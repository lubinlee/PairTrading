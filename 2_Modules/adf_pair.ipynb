{
 "cells": [
  {
   "cell_type": "code",
   "execution_count": 2,
   "metadata": {},
   "outputs": [],
   "source": [
    "## 입력 dataframe = pairLog\n",
    "def adf_pair(dataframe, pvalue = 0.05):\n",
    "    columsList = ['ADF','pValue','CV_1','CV_5','CV_10']\n",
    "    outdf = pd.DataFrame(index = dataframe.index, columns=columsList)    \n",
    "    \n",
    "    for index in range(0,len(outdf)):\n",
    "        series = dataframe.iloc[index]\n",
    "        X = series.values\n",
    "        result = adfuller(X)\n",
    "        outdf.loc[dataframe.iloc[index].name].ADF=result[0]\n",
    "        outdf.loc[dataframe.iloc[index].name].pValue=result[1]\n",
    "        outdf.loc[dataframe.iloc[index].name].CV_1=result[4]['1%']\n",
    "        outdf.loc[dataframe.iloc[index].name].CV_5=result[4]['5%']\n",
    "        outdf.loc[dataframe.iloc[index].name].CV_10=result[4]['10%']\n",
    "    \n",
    "    outdf = outdf[outdf['pValue']<=pvalue]\n",
    "    \n",
    "    return outdf"
   ]
  }
 ],
 "metadata": {
  "kernelspec": {
   "display_name": "Python 3",
   "language": "python",
   "name": "python3"
  },
  "language_info": {
   "codemirror_mode": {
    "name": "ipython",
    "version": 3
   },
   "file_extension": ".py",
   "mimetype": "text/x-python",
   "name": "python",
   "nbconvert_exporter": "python",
   "pygments_lexer": "ipython3",
   "version": "3.7.1"
  }
 },
 "nbformat": 4,
 "nbformat_minor": 2
}
