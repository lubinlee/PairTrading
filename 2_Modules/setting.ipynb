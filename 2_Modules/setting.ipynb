{
 "cells": [
  {
   "cell_type": "markdown",
   "metadata": {},
   "source": [
    "## Pair-Trading 전략 구현을 위한 기본 setting\n",
    "- 1) os, datetime, numpy, pandas, matplotlib, matplotlib.pyplot 라이브러리 import\n",
    "- 2) 엑셀 파일로 된 raw data 불러와서 dataframe 형태로 저장\n",
    "- 3) 전체 기간에 na 값 있는 종목들은 drop (dropna)\n",
    "- 4) 종목코드(key)와 종목명(value)을 dictionary로 저장함\n",
    "- 5) 기간에 따라 train 데이터와 test 데이터로 나눔"
   ]
  },
  {
   "cell_type": "markdown",
   "metadata": {},
   "source": [
    "## 1. Import Libraries"
   ]
  },
  {
   "cell_type": "code",
   "execution_count": 1,
   "metadata": {},
   "outputs": [],
   "source": [
    "'''\n",
    "시각화를 위해 아래 4개 install 필요함 (순서대로)\n",
    "1. pyecharts / pyecharts-snapshot 패키지\n",
    " > anaconda prompt 에서 -pip install 라이브러리명 으로 설치\n",
    "3. nodejs: \n",
    " > https://nodejs.org/en/download/ 에서 다운로드\n",
    "4. phantomjs 패키지\n",
    " > 설치 안되면 참고 (https://pythonspot.com/selenium-phantomjs/)\n",
    "'''\n",
    "\n",
    "import datetime as dt\n",
    "import numpy as np\n",
    "import pandas as pd\n",
    "import pyecharts as pch\n",
    "import matplotlib\n",
    "import matplotlib.pyplot as plt\n",
    "from IPython.core.interactiveshell import InteractiveShell\n",
    "InteractiveShell.ast_node_interactivity = \"all\"\n",
    "from pandas import Series\n",
    "from statsmodels.tsa.stattools import adfuller"
   ]
  },
  {
   "cell_type": "markdown",
   "metadata": {},
   "source": [
    "## 2. 파일 경로 / 워크북, 워크시트 로드"
   ]
  },
  {
   "cell_type": "code",
   "execution_count": 2,
   "metadata": {
    "scrolled": true
   },
   "outputs": [
    {
     "ename": "NameError",
     "evalue": "name 'rawPath' is not defined",
     "output_type": "error",
     "traceback": [
      "\u001b[1;31m---------------------------------------------------------------------------\u001b[0m",
      "\u001b[1;31mNameError\u001b[0m                                 Traceback (most recent call last)",
      "\u001b[1;32m<ipython-input-2-1566a7507963>\u001b[0m in \u001b[0;36m<module>\u001b[1;34m()\u001b[0m\n\u001b[0;32m      5\u001b[0m \u001b[1;31m# Raw 데이터 엑셀 파일을 변수 선언\u001b[0m\u001b[1;33m\u001b[0m\u001b[1;33m\u001b[0m\u001b[0m\n\u001b[0;32m      6\u001b[0m \u001b[1;31m# 2015년 ~ 2018년 KOSPI 종목 일별 주가 / 수익률\u001b[0m\u001b[1;33m\u001b[0m\u001b[1;33m\u001b[0m\u001b[0m\n\u001b[1;32m----> 7\u001b[1;33m \u001b[0mwkbRaw\u001b[0m \u001b[1;33m=\u001b[0m \u001b[0mpd\u001b[0m\u001b[1;33m.\u001b[0m\u001b[0mExcelFile\u001b[0m\u001b[1;33m(\u001b[0m\u001b[0mrawPath\u001b[0m \u001b[1;33m+\u001b[0m \u001b[1;34m'/All_KOSPI_Daily_20150102~.xlsx'\u001b[0m\u001b[1;33m)\u001b[0m\u001b[1;33m\u001b[0m\u001b[0m\n\u001b[0m\u001b[0;32m      8\u001b[0m \u001b[1;33m\u001b[0m\u001b[0m\n\u001b[0;32m      9\u001b[0m \u001b[1;31m# train 데이터와 test 데이터 각각의 수정주가, 수익률을 df형태로 저장\u001b[0m\u001b[1;33m\u001b[0m\u001b[1;33m\u001b[0m\u001b[0m\n",
      "\u001b[1;31mNameError\u001b[0m: name 'rawPath' is not defined"
     ]
    }
   ],
   "source": [
    "# 현재 setting 파일이 있는 폴더 경로 + '1_RawData' 폴더를 경로로 설정\n",
    "# 'execute' 파일에서 rawPath 저장하기 때문에 현재 아래 코드는 안 쓴다\n",
    "#### rawPath = os.path.abspath(os.path.join(os.path.dirname(os.getcwd()), '1_RawData'))\n",
    "#### os.path.abspath(os.path.join(os.getcwd(), '1_RawData'))\n",
    "\n",
    "# Raw 데이터 엑셀 파일을 변수 선언\n",
    "# 2015년 ~ 2018년 KOSPI 종목 일별 주가 / 수익률\n",
    "wkbRaw = pd.ExcelFile(rawPath + '/All_KOSPI_Daily_20150102~.xlsx')\n",
    "\n",
    "# train 데이터와 test 데이터 각각의 수정주가, 수익률을 df형태로 저장\n",
    "# 종목코드를 header로 하고 날짜를 index로 함\n",
    "allPrice = wkbRaw.parse('Comp_price',index_col=0, header =7, skiprows= range(9,14)) \n",
    "allReturn = wkbRaw.parse('Comp_return',index_col=0, header =7, skiprows= range(9,14)) "
   ]
  },
  {
   "cell_type": "markdown",
   "metadata": {},
   "source": [
    "## 3. 데이터 가공 / 함수 선언\n",
    "- 'get_data_by_date' 함수 이용해서 불러오고 싶은 기간대로 주가or수익률 데이터 불러옴\n",
    "- 주가 DF : allPrice, 수익률 DF : allReturn"
   ]
  },
  {
   "cell_type": "code",
   "execution_count": null,
   "metadata": {},
   "outputs": [],
   "source": [
    "def drop_stock_name(df : pd.DataFrame):\n",
    "    if 'Name' in df.index:\n",
    "        df = df.drop(\"Name\",0)\n",
    "    return df\n",
    "\n",
    "# 아래 함수 이용해서 allPrice와 allReturn df을 날짜에 맞게 불러옴\n",
    "def get_data_by_date(df : pd.DataFrame, startDate : str, endDate : str = None):\n",
    "    if endDate is None:\n",
    "        endDate = df.index[-1]\n",
    "    df = df.loc[(df.index >= startDate) & (df.index <= endDate)]\n",
    "    return df\n",
    "\n",
    "# 해당 기간에 na값 있는 종목들 전부 제거\n",
    "allPrice = allPrice.dropna(axis = 1)\n",
    "allReturn = allReturn.dropna(axis = 1)\n",
    "\n",
    "# 종목명있는 행 drop하기 전에 종목명과 종목코드 dictionary로 만듬\n",
    "dicCodeName = dict(zip(allPrice.keys(),allPrice.iloc[0]))\n",
    "\n",
    "# 종목명 있는 행 drop함. 데이터 가공 편하게 하기 위함\n",
    "allPrice = drop_stock_name(allPrice)\n",
    "allReturn = drop_stock_name(allReturn)\n",
    "\n",
    "# index를 pandas의 DatetimeIndex로 변환함\n",
    "allPrice.index = pd.to_datetime(allPrice.index)\n",
    "allReturn.index = pd.to_datetime(allReturn.index)\n",
    "\n",
    "#data type을 'float64'로 변경. 자연로그 취할 때나 corr 구할 때 데이터타입 걸리는 이슈 있기 때문\n",
    "allPrice = allPrice.astype('float64')\n",
    "allReturn = allReturn.astype('float64')"
   ]
  },
  {
   "cell_type": "markdown",
   "metadata": {},
   "source": [
    "## 4. Loaded modules, 선언한 함수명, 변수명 보여주기 (미완) "
   ]
  },
  {
   "cell_type": "code",
   "execution_count": null,
   "metadata": {},
   "outputs": [],
   "source": [
    "# print('[imported modules list]\\n: os \\n  datetime as dt\\n  numpy as np\\n  pandas as pd\\n  pyecharts as pch\\n  matplotlib\\n  matplotlib.pyplot as plt \\n')\n",
    "# print('[변수명]\\n: dd')"
   ]
  }
 ],
 "metadata": {
  "kernelspec": {
   "display_name": "Python 3",
   "language": "python",
   "name": "python3"
  },
  "language_info": {
   "codemirror_mode": {
    "name": "ipython",
    "version": 3
   },
   "file_extension": ".py",
   "mimetype": "text/x-python",
   "name": "python",
   "nbconvert_exporter": "python",
   "pygments_lexer": "ipython3",
   "version": "3.7.1"
  }
 },
 "nbformat": 4,
 "nbformat_minor": 2
}
